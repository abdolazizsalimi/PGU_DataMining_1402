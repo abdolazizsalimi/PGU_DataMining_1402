{
 "cells": [
  {
   "attachments": {},
   "cell_type": "markdown",
   "metadata": {},
   "source": [
    "# AbdolazizsalimiFinal980292626"
   ]
  },
  {
   "attachments": {},
   "cell_type": "markdown",
   "metadata": {},
   "source": [
    "## About DataSet:\n",
    "\n",
    "### Abstract: \n",
    "\n",
    "\n",
    "Contrast-enhanced spectral mammography (CESM) is a relatively recent imaging modality with increased diagnostic accuracy compared to digital mammography (DM). New deep learning (DL) models were developed that have accuracies equal to that of an average radiologist. However, most studies trained the DL models on DM images as no datasets exist for CESM images. We aim to resolve this limitation by releasing a Categorized Digital Database for Low energy and Subtracted Contrast Enhanced Spectral Mammography images (CDD-CESM) to evaluate decision support systems. The dataset includes 2006 images, with an average resolution of 2355 × 1315, consisting of 310 mass images, 48 architectural distortion images, 222 asymmetry images, 238 calcifications images, 334 mass enhancement images, 184 non-mass enhancement images, 159 postoperative images, 8 post neoadjuvant chemotherapy images, and 751 normal images, with 248 images having more than one finding. This is the first dataset to incorporate data selection, segmentation annotation, medical reports, and pathological diagnosis for all cases. Moreover, we propose and evaluate a DL-based technique to automatically segment abnormal findings in images."
   ]
  },
  {
   "attachments": {},
   "cell_type": "markdown",
   "metadata": {},
   "source": [
    "![a:Low-energy | b:High-energy | c:subtracted-Image](Lowenergy-Highenergy-Sub.png)\n",
    "\n",
    "\n",
    "* (a) :Low-energy \n",
    "* (b) :High-energy\n",
    "* (c) :subtracted-Image"
   ]
  },
  {
   "attachments": {},
   "cell_type": "markdown",
   "metadata": {},
   "source": [
    "### load Radiology manual file :"
   ]
  },
  {
   "cell_type": "code",
   "execution_count": 3,
   "metadata": {},
   "outputs": [],
   "source": [
    "import pandas as pd"
   ]
  },
  {
   "cell_type": "code",
   "execution_count": 4,
   "metadata": {},
   "outputs": [],
   "source": [
    "path = r'../Radiology-manual-annotations.xlsx'\n",
    "manual = pd.read_excel(path)"
   ]
  },
  {
   "cell_type": "code",
   "execution_count": 5,
   "metadata": {},
   "outputs": [],
   "source": [
    "df = manual.copy()"
   ]
  },
  {
   "cell_type": "code",
   "execution_count": 6,
   "metadata": {},
   "outputs": [
    {
     "data": {
      "text/html": [
       "<div>\n",
       "<style scoped>\n",
       "    .dataframe tbody tr th:only-of-type {\n",
       "        vertical-align: middle;\n",
       "    }\n",
       "\n",
       "    .dataframe tbody tr th {\n",
       "        vertical-align: top;\n",
       "    }\n",
       "\n",
       "    .dataframe thead th {\n",
       "        text-align: right;\n",
       "    }\n",
       "</style>\n",
       "<table border=\"1\" class=\"dataframe\">\n",
       "  <thead>\n",
       "    <tr style=\"text-align: right;\">\n",
       "      <th></th>\n",
       "      <th>Image_name</th>\n",
       "      <th>Patient_ID</th>\n",
       "      <th>Side</th>\n",
       "      <th>Type</th>\n",
       "      <th>Age</th>\n",
       "      <th>Breast density (ACR)</th>\n",
       "      <th>BIRADS</th>\n",
       "      <th>Findings</th>\n",
       "      <th>View</th>\n",
       "      <th>Tags</th>\n",
       "      <th>Machine</th>\n",
       "      <th>Pathology Classification/ Follow up</th>\n",
       "    </tr>\n",
       "  </thead>\n",
       "  <tbody>\n",
       "    <tr>\n",
       "      <th>0</th>\n",
       "      <td>P1_L_DM_MLO</td>\n",
       "      <td>1</td>\n",
       "      <td>L</td>\n",
       "      <td>DM</td>\n",
       "      <td>46</td>\n",
       "      <td>C</td>\n",
       "      <td>4</td>\n",
       "      <td>Architectural distortion</td>\n",
       "      <td>MLO</td>\n",
       "      <td>suspicious, distortion</td>\n",
       "      <td>1</td>\n",
       "      <td>Malignant</td>\n",
       "    </tr>\n",
       "    <tr>\n",
       "      <th>1</th>\n",
       "      <td>P1_L_CM_MLO</td>\n",
       "      <td>1</td>\n",
       "      <td>L</td>\n",
       "      <td>CESM</td>\n",
       "      <td>46</td>\n",
       "      <td>_</td>\n",
       "      <td>4</td>\n",
       "      <td>Heterogenous non mass enhancement</td>\n",
       "      <td>MLO</td>\n",
       "      <td>suspicious, non mass</td>\n",
       "      <td>1</td>\n",
       "      <td>Malignant</td>\n",
       "    </tr>\n",
       "    <tr>\n",
       "      <th>2</th>\n",
       "      <td>P2_R_DM_CC</td>\n",
       "      <td>2</td>\n",
       "      <td>R</td>\n",
       "      <td>DM</td>\n",
       "      <td>31</td>\n",
       "      <td>C</td>\n",
       "      <td>3$2</td>\n",
       "      <td>Multiple equal density  masses$Benign macrocal...</td>\n",
       "      <td>CC</td>\n",
       "      <td>benign, masses, macrocalcification</td>\n",
       "      <td>2</td>\n",
       "      <td>Benign</td>\n",
       "    </tr>\n",
       "    <tr>\n",
       "      <th>3</th>\n",
       "      <td>P2_R_DM_MLO</td>\n",
       "      <td>2</td>\n",
       "      <td>R</td>\n",
       "      <td>DM</td>\n",
       "      <td>31</td>\n",
       "      <td>C</td>\n",
       "      <td>3$2</td>\n",
       "      <td>Multiple equal density masses$Benign macrocalc...</td>\n",
       "      <td>MLO</td>\n",
       "      <td>benign, masses, macrocalcification</td>\n",
       "      <td>2</td>\n",
       "      <td>Benign</td>\n",
       "    </tr>\n",
       "    <tr>\n",
       "      <th>4</th>\n",
       "      <td>P2_R_CM_CC</td>\n",
       "      <td>2</td>\n",
       "      <td>R</td>\n",
       "      <td>CESM</td>\n",
       "      <td>31</td>\n",
       "      <td>_</td>\n",
       "      <td>3</td>\n",
       "      <td>Multiple homogenously enhancing  masses</td>\n",
       "      <td>CC</td>\n",
       "      <td>benign, masses, homogenous</td>\n",
       "      <td>2</td>\n",
       "      <td>Benign</td>\n",
       "    </tr>\n",
       "  </tbody>\n",
       "</table>\n",
       "</div>"
      ],
      "text/plain": [
       "    Image_name  Patient_ID Side  Type  Age Breast density (ACR) BIRADS  \\\n",
       "0  P1_L_DM_MLO           1    L    DM   46                    C      4   \n",
       "1  P1_L_CM_MLO           1    L  CESM   46                    _      4   \n",
       "2   P2_R_DM_CC           2    R    DM   31                    C    3$2   \n",
       "3  P2_R_DM_MLO           2    R    DM   31                    C    3$2   \n",
       "4   P2_R_CM_CC           2    R  CESM   31                    _      3   \n",
       "\n",
       "                                            Findings View  \\\n",
       "0                          Architectural distortion   MLO   \n",
       "1                 Heterogenous non mass enhancement   MLO   \n",
       "2  Multiple equal density  masses$Benign macrocal...   CC   \n",
       "3  Multiple equal density masses$Benign macrocalc...  MLO   \n",
       "4           Multiple homogenously enhancing  masses    CC   \n",
       "\n",
       "                                 Tags  Machine  \\\n",
       "0              suspicious, distortion        1   \n",
       "1                suspicious, non mass        1   \n",
       "2  benign, masses, macrocalcification        2   \n",
       "3  benign, masses, macrocalcification        2   \n",
       "4          benign, masses, homogenous        2   \n",
       "\n",
       "  Pathology Classification/ Follow up  \n",
       "0                           Malignant  \n",
       "1                           Malignant  \n",
       "2                              Benign  \n",
       "3                              Benign  \n",
       "4                              Benign  "
      ]
     },
     "execution_count": 6,
     "metadata": {},
     "output_type": "execute_result"
    }
   ],
   "source": [
    "df.head()"
   ]
  },
  {
   "cell_type": "code",
   "execution_count": 7,
   "metadata": {},
   "outputs": [
    {
     "data": {
      "text/plain": [
       "Image_name                             0\n",
       "Patient_ID                             0\n",
       "Side                                   0\n",
       "Type                                   0\n",
       "Age                                    0\n",
       "Breast density (ACR)                   0\n",
       "BIRADS                                 0\n",
       "Findings                               0\n",
       "View                                   0\n",
       "Tags                                   0\n",
       "Machine                                0\n",
       "Pathology Classification/ Follow up    0\n",
       "dtype: int64"
      ]
     },
     "execution_count": 7,
     "metadata": {},
     "output_type": "execute_result"
    }
   ],
   "source": [
    "df.isnull().sum()"
   ]
  },
  {
   "cell_type": "code",
   "execution_count": 8,
   "metadata": {},
   "outputs": [],
   "source": [
    "# Rename the column\n",
    "df.rename(columns={'Pathology Classification/ Follow up': 'PathologyClassification'}, inplace=True)"
   ]
  },
  {
   "cell_type": "code",
   "execution_count": 9,
   "metadata": {},
   "outputs": [
    {
     "data": {
      "text/plain": [
       "Index(['Image_name', 'Patient_ID', 'Side', 'Type', 'Age',\n",
       "       'Breast density (ACR)', 'BIRADS', 'Findings', 'View', 'Tags', 'Machine',\n",
       "       'PathologyClassification'],\n",
       "      dtype='object')"
      ]
     },
     "execution_count": 9,
     "metadata": {},
     "output_type": "execute_result"
    }
   ],
   "source": [
    "df.columns"
   ]
  },
  {
   "cell_type": "code",
   "execution_count": null,
   "metadata": {},
   "outputs": [],
   "source": []
  }
 ],
 "metadata": {
  "kernelspec": {
   "display_name": "base",
   "language": "python",
   "name": "python3"
  },
  "language_info": {
   "codemirror_mode": {
    "name": "ipython",
    "version": 3
   },
   "file_extension": ".py",
   "mimetype": "text/x-python",
   "name": "python",
   "nbconvert_exporter": "python",
   "pygments_lexer": "ipython3",
   "version": "3.9.16"
  },
  "orig_nbformat": 4
 },
 "nbformat": 4,
 "nbformat_minor": 2
}
